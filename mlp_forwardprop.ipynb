{
 "cells": [
  {
   "cell_type": "code",
   "execution_count": 4,
   "metadata": {},
   "outputs": [],
   "source": [
    "import numpy as np"
   ]
  },
  {
   "cell_type": "code",
   "execution_count": 5,
   "metadata": {},
   "outputs": [],
   "source": [
    "class MLP:\n",
    "    \n",
    "    def __init__(self, num_inputs = 3, num_hidden = [3, 5], num_outputs = 2):\n",
    "        self.num_inputs = num_inputs\n",
    "        self.num_hidden = num_hidden\n",
    "        self.num_outputs = num_outputs\n",
    "        \n",
    "        # list where each item represent number of neurons in layers\n",
    "        layers = [self.num_inputs] + self.num_hidden + [self.num_outputs]\n",
    "        \n",
    "        # initiate random weights\n",
    "        self.weights = []\n",
    "        for i in range(len(layers) - 1):\n",
    "            # matrix 'w' creates random arrays with 2D\n",
    "            # no of rows is current layer, and no of columns is \n",
    "            # the number in subsequent layer\n",
    "            w = np.random.rand(layers[i], layers[i + 1])\n",
    "            \n",
    "            #store the information\n",
    "            self.weights.append(w)\n",
    "        \n",
    "    \n",
    "    def forward_propagate(self, inputs):\n",
    "        activations = inputs\n",
    "        \n",
    "        # Move from one layer to another\n",
    "        for w in self.weights:\n",
    "            # calculate net inputs\n",
    "            net_inputs = np.dot(activations, w)\n",
    "            \n",
    "            # calculate the activations\n",
    "            activations = self._sigmoid(net_inputs)\n",
    "            \n",
    "        return activations\n",
    "    \n",
    "    def _sigmoid(self, x):\n",
    "        return 1/ (1 + np.exp(-x))\n"
   ]
  },
  {
   "cell_type": "code",
   "execution_count": null,
   "metadata": {},
   "outputs": [],
   "source": [
    "if __name__ == \"__main__\":\n",
    "    # Create MLP (using default values)\n",
    "    mlp = MLP()\n",
    "    \n",
    "    # Create some inputs\n",
    "    inputs = np.random.rand(mlp.num_inputs)\n",
    "    \n",
    "    # Perform forward prop\n",
    "    outputs = mlp.forward_propagate(inputs)\n",
    "    \n",
    "    # Print results\n",
    "    print(\"The network output is: {}\". format(inputs))\n",
    "    print(\"The network output is: {}\". format(outputs))"
   ]
  }
 ],
 "metadata": {
  "kernelspec": {
   "display_name": "Python 3",
   "language": "python",
   "name": "python3"
  },
  "language_info": {
   "codemirror_mode": {
    "name": "ipython",
    "version": 3
   },
   "file_extension": ".py",
   "mimetype": "text/x-python",
   "name": "python",
   "nbconvert_exporter": "python",
   "pygments_lexer": "ipython3",
   "version": "3.7.3"
  }
 },
 "nbformat": 4,
 "nbformat_minor": 2
}
